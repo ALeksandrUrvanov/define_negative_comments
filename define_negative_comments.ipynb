{
 "cells": [
  {
   "cell_type": "markdown",
   "id": "9977c97b",
   "metadata": {},
   "source": [
    "# Проект для «Викишоп» "
   ]
  },
  {
   "cell_type": "markdown",
   "id": "24b2cc09",
   "metadata": {},
   "source": [
    "Интернет-магазин «Викишоп» запускает новый сервис. Теперь пользователи могут редактировать и дополнять описания товаров, как в вики-сообществах. То есть клиенты предлагают свои правки и комментируют изменения других. Магазину нужен инструмент, который будет искать токсичные комментарии и отправлять их на модерацию. "
   ]
  },
  {
   "cell_type": "markdown",
   "id": "45828101",
   "metadata": {},
   "source": [
    "Цель проекта:\n",
    "- обучить модель классифицировать комментарии на позитивные и негативные, \n",
    "- постройте модель со значением метрики качества F1 не меньше 0.75. \n"
   ]
  },
  {
   "cell_type": "markdown",
   "id": "693f661f",
   "metadata": {},
   "source": [
    "В ходе работы планируем выполнить следующие шаги:\n",
    " 1. Загрузка и предобработка данных.\n",
    " 2. Обучение моделей.\n",
    " 3. Вывод."
   ]
  },
  {
   "cell_type": "markdown",
   "id": "13b8dc2d",
   "metadata": {},
   "source": [
    "##  1. Загрузка и предобработка данных."
   ]
  },
  {
   "cell_type": "code",
   "execution_count": 1,
   "id": "0a09fd6e",
   "metadata": {},
   "outputs": [
    {
     "name": "stdout",
     "output_type": "stream",
     "text": [
      "Author: Wiki_shop\n",
      "\n",
      "Last updated: 2023-09-26\n",
      "\n",
      "Python implementation: CPython\n",
      "Python version       : 3.11.4\n",
      "IPython version      : 8.14.0\n",
      "\n",
      "numpy     : 1.24.4\n",
      "pandas    : 2.0.2\n",
      "matplotlib: 3.7.1\n",
      "nltk      : 3.8.1\n",
      "\n"
     ]
    }
   ],
   "source": [
    "%load_ext watermark\n",
    "%watermark -a 'Wiki_shop' -u -d -v -p numpy,pandas,matplotlib,nltk"
   ]
  },
  {
   "cell_type": "code",
   "execution_count": 2,
   "id": "90214e62",
   "metadata": {},
   "outputs": [],
   "source": [
    "# выведем необходимые библиотеки для работы\n",
    "import pandas as pd \n",
    "import numpy as np \n",
    "\n",
    "from sklearn.pipeline import Pipeline\n",
    "\n",
    "import re\n",
    "import ssl\n",
    "import nltk\n",
    "import spacy\n",
    "from nltk.corpus import stopwords as nltk_stopwords\n",
    "from tqdm import tqdm\n",
    "from sklearn.feature_extraction.text import TfidfVectorizer\n",
    "\n",
    "from sklearn.model_selection import train_test_split, GridSearchCV\n",
    "\n",
    "from sklearn.linear_model import LogisticRegression\n",
    "from sklearn.ensemble import RandomForestClassifier\n",
    "from lightgbm import LGBMClassifier \n",
    "from catboost import CatBoostClassifier\n",
    "\n",
    "from sklearn.metrics import f1_score\n",
    "\n",
    "import time\n",
    "import warnings\n",
    "\n",
    "RANDOM_STATE = 12345\n",
    "\n",
    "warnings.filterwarnings('ignore')"
   ]
  },
  {
   "cell_type": "code",
   "execution_count": 3,
   "id": "15d4d539",
   "metadata": {},
   "outputs": [
    {
     "data": {
      "text/html": [
       "<div>\n",
       "<style scoped>\n",
       "    .dataframe tbody tr th:only-of-type {\n",
       "        vertical-align: middle;\n",
       "    }\n",
       "\n",
       "    .dataframe tbody tr th {\n",
       "        vertical-align: top;\n",
       "    }\n",
       "\n",
       "    .dataframe thead th {\n",
       "        text-align: right;\n",
       "    }\n",
       "</style>\n",
       "<table border=\"1\" class=\"dataframe\">\n",
       "  <thead>\n",
       "    <tr style=\"text-align: right;\">\n",
       "      <th></th>\n",
       "      <th>text</th>\n",
       "      <th>toxic</th>\n",
       "    </tr>\n",
       "  </thead>\n",
       "  <tbody>\n",
       "    <tr>\n",
       "      <th>0</th>\n",
       "      <td>Explanation\\nWhy the edits made under my usern...</td>\n",
       "      <td>0</td>\n",
       "    </tr>\n",
       "    <tr>\n",
       "      <th>1</th>\n",
       "      <td>D'aww! He matches this background colour I'm s...</td>\n",
       "      <td>0</td>\n",
       "    </tr>\n",
       "    <tr>\n",
       "      <th>2</th>\n",
       "      <td>Hey man, I'm really not trying to edit war. It...</td>\n",
       "      <td>0</td>\n",
       "    </tr>\n",
       "    <tr>\n",
       "      <th>3</th>\n",
       "      <td>\"\\nMore\\nI can't make any real suggestions on ...</td>\n",
       "      <td>0</td>\n",
       "    </tr>\n",
       "    <tr>\n",
       "      <th>4</th>\n",
       "      <td>You, sir, are my hero. Any chance you remember...</td>\n",
       "      <td>0</td>\n",
       "    </tr>\n",
       "  </tbody>\n",
       "</table>\n",
       "</div>"
      ],
      "text/plain": [
       "                                                text  toxic\n",
       "0  Explanation\\nWhy the edits made under my usern...      0\n",
       "1  D'aww! He matches this background colour I'm s...      0\n",
       "2  Hey man, I'm really not trying to edit war. It...      0\n",
       "3  \"\\nMore\\nI can't make any real suggestions on ...      0\n",
       "4  You, sir, are my hero. Any chance you remember...      0"
      ]
     },
     "metadata": {},
     "output_type": "display_data"
    }
   ],
   "source": [
    "# выведем датасет\n",
    "df = pd.read_csv('/Users/urvanov_aleksandr/yandex-praktikum/wiki_shop/toxic_comments.csv', \n",
    "                 index_col=[0])\n",
    "df.reset_index(drop= True , inplace= True )\n",
    "display(df.head())"
   ]
  },
  {
   "cell_type": "code",
   "execution_count": 4,
   "id": "a0da802f",
   "metadata": {},
   "outputs": [
    {
     "name": "stdout",
     "output_type": "stream",
     "text": [
      "<class 'pandas.core.frame.DataFrame'>\n",
      "RangeIndex: 159292 entries, 0 to 159291\n",
      "Data columns (total 2 columns):\n",
      " #   Column  Non-Null Count   Dtype \n",
      "---  ------  --------------   ----- \n",
      " 0   text    159292 non-null  object\n",
      " 1   toxic   159292 non-null  int64 \n",
      "dtypes: int64(1), object(1)\n",
      "memory usage: 2.4+ MB\n"
     ]
    }
   ],
   "source": [
    "# выведем информацию о датасете\n",
    "df.info()"
   ]
  },
  {
   "cell_type": "code",
   "execution_count": 5,
   "id": "0a495949",
   "metadata": {},
   "outputs": [
    {
     "name": "stdout",
     "output_type": "stream",
     "text": [
      "Количество пропусков в датасете:\n"
     ]
    },
    {
     "data": {
      "text/plain": [
       "text     0\n",
       "toxic    0\n",
       "dtype: int64"
      ]
     },
     "metadata": {},
     "output_type": "display_data"
    }
   ],
   "source": [
    "print('Количество пропусков в датасете:')\n",
    "display(df.isna().sum())"
   ]
  },
  {
   "cell_type": "code",
   "execution_count": 6,
   "id": "e2d312db",
   "metadata": {},
   "outputs": [
    {
     "name": "stdout",
     "output_type": "stream",
     "text": [
      "Количество дупликатов в датасете:\n"
     ]
    },
    {
     "data": {
      "text/plain": [
       "0"
      ]
     },
     "execution_count": 6,
     "metadata": {},
     "output_type": "execute_result"
    }
   ],
   "source": [
    "print('Количество дупликатов в датасете:')\n",
    "df.duplicated().sum()"
   ]
  },
  {
   "cell_type": "code",
   "execution_count": 7,
   "id": "27b17e76",
   "metadata": {},
   "outputs": [
    {
     "data": {
      "image/png": "[encoded data removed]",
      "text/plain": [
       "<Figure size 640x480 with 1 Axes>"
      ]
     },
     "metadata": {},
     "output_type": "display_data"
    }
   ],
   "source": [
    "# проверяем распределение классов \n",
    "df['toxic'].value_counts().plot.bar();"
   ]
  },
  {
   "cell_type": "code",
   "execution_count": 8,
   "id": "1f287bd5",
   "metadata": {},
   "outputs": [
    {
     "data": {
      "text/plain": [
       "toxic\n",
       "0    143106\n",
       "1     16186\n",
       "Name: count, dtype: int64"
      ]
     },
     "execution_count": 8,
     "metadata": {},
     "output_type": "execute_result"
    }
   ],
   "source": [
    "df['toxic'].value_counts()"
   ]
  },
  {
   "cell_type": "code",
   "execution_count": 9,
   "id": "49abd52d",
   "metadata": {},
   "outputs": [],
   "source": [
    "# функция для очистки датасета \n",
    "def clean_text(text):\n",
    "    text = text.lower()\n",
    "    text = re.sub(r\"what's\", \"what is \", text)\n",
    "    text = re.sub(r\"\\'s\", \" \", text)\n",
    "    text = re.sub(r\"\\'ve\", \" have \", text)\n",
    "    text = re.sub(r\"can't\", \"cannot \", text)\n",
    "    text = re.sub(r\"n't\", \" not \", text)\n",
    "    text = re.sub(r\"i'm\", \"i am \", text)\n",
    "    text = re.sub(r\"\\'re\", \" are \", text)\n",
    "    text = re.sub(r\"\\'d\", \" would \", text)\n",
    "    text = re.sub(r\"\\'ll\", \" will \", text)\n",
    "    text = re.sub('\\W', ' ', text)\n",
    "    text = re.sub('\\s+', ' ', text)\n",
    "    text = text.strip(' ')\n",
    "    return text"
   ]
  },
  {
   "cell_type": "code",
   "execution_count": 10,
   "id": "727cbd25",
   "metadata": {},
   "outputs": [
    {
     "name": "stderr",
     "output_type": "stream",
     "text": [
      "100%|████████████████████████████████| 159292/159292 [00:04<00:00, 39231.92it/s]\n"
     ]
    }
   ],
   "source": [
    "tqdm.pandas()\n",
    "# очищаем от ненужных символов и прочего\n",
    "df['text'] = df['text'].progress_apply(clean_text)"
   ]
  },
  {
   "cell_type": "code",
   "execution_count": 11,
   "id": "9c39c998",
   "metadata": {},
   "outputs": [
    {
     "name": "stderr",
     "output_type": "stream",
     "text": [
      "100%|██████████████████████████████████| 159292/159292 [13:26<00:00, 197.56it/s]\n"
     ]
    }
   ],
   "source": [
    "# лемматизация, токенизация\n",
    "nlp = spacy.load(\"en_core_web_sm\", disable=['parser', 'ner'])\n",
    "def spacy_lemm(sentence):\n",
    "    doc = nlp(sentence)\n",
    "    return \" \".join([token.lemma_ for token in doc])\n",
    "\n",
    "df['lemm_text'] = df['text'].progress_apply(spacy_lemm)"
   ]
  },
  {
   "cell_type": "code",
   "execution_count": 12,
   "id": "b3b27cb6",
   "metadata": {},
   "outputs": [],
   "source": [
    "# удаляем исходный столбец\n",
    "df = df.drop(['text'], axis=1)"
   ]
  },
  {
   "cell_type": "code",
   "execution_count": 13,
   "id": "805451bd",
   "metadata": {},
   "outputs": [
    {
     "data": {
      "text/html": [
       "<div>\n",
       "<style scoped>\n",
       "    .dataframe tbody tr th:only-of-type {\n",
       "        vertical-align: middle;\n",
       "    }\n",
       "\n",
       "    .dataframe tbody tr th {\n",
       "        vertical-align: top;\n",
       "    }\n",
       "\n",
       "    .dataframe thead th {\n",
       "        text-align: right;\n",
       "    }\n",
       "</style>\n",
       "<table border=\"1\" class=\"dataframe\">\n",
       "  <thead>\n",
       "    <tr style=\"text-align: right;\">\n",
       "      <th></th>\n",
       "      <th>toxic</th>\n",
       "      <th>lemm_text</th>\n",
       "    </tr>\n",
       "  </thead>\n",
       "  <tbody>\n",
       "    <tr>\n",
       "      <th>0</th>\n",
       "      <td>0</td>\n",
       "      <td>explanation why the edit make under my usernam...</td>\n",
       "    </tr>\n",
       "    <tr>\n",
       "      <th>1</th>\n",
       "      <td>0</td>\n",
       "      <td>d aww he match this background colour I be see...</td>\n",
       "    </tr>\n",
       "    <tr>\n",
       "      <th>2</th>\n",
       "      <td>0</td>\n",
       "      <td>hey man I be really not try to edit war it jus...</td>\n",
       "    </tr>\n",
       "    <tr>\n",
       "      <th>3</th>\n",
       "      <td>0</td>\n",
       "      <td>more I can not make any real suggestion on imp...</td>\n",
       "    </tr>\n",
       "    <tr>\n",
       "      <th>4</th>\n",
       "      <td>0</td>\n",
       "      <td>you sir be my hero any chance you remember wha...</td>\n",
       "    </tr>\n",
       "  </tbody>\n",
       "</table>\n",
       "</div>"
      ],
      "text/plain": [
       "   toxic                                          lemm_text\n",
       "0      0  explanation why the edit make under my usernam...\n",
       "1      0  d aww he match this background colour I be see...\n",
       "2      0  hey man I be really not try to edit war it jus...\n",
       "3      0  more I can not make any real suggestion on imp...\n",
       "4      0  you sir be my hero any chance you remember wha..."
      ]
     },
     "metadata": {},
     "output_type": "display_data"
    }
   ],
   "source": [
    "display(df.head())"
   ]
  },
  {
   "cell_type": "markdown",
   "id": "93cff4e9",
   "metadata": {},
   "source": [
    "### Вывод"
   ]
  },
  {
   "cell_type": "markdown",
   "id": "98bb2d79",
   "metadata": {},
   "source": [
    "Датасет загружен, с помощью регулярных выражений обработали текст для дальнейшего исследования. Проведена лемматизаци и токенизация текста. Пропуски и дубликаты не выявлены. Около 10% описаний имеют токсичный характер."
   ]
  },
  {
   "cell_type": "markdown",
   "id": "9bda1528",
   "metadata": {},
   "source": [
    "## 2. Обучение моделей."
   ]
  },
  {
   "cell_type": "code",
   "execution_count": 14,
   "id": "db942311",
   "metadata": {},
   "outputs": [],
   "source": [
    "# выделяем целевой признак и признаки:\n",
    "features = df.drop('toxic', axis=1)\n",
    "target = df['toxic']"
   ]
  },
  {
   "cell_type": "code",
   "execution_count": 15,
   "id": "a3201915",
   "metadata": {},
   "outputs": [],
   "source": [
    "# выделяем 50% данных для обучающей выборки, остальные данные для тестовой\n",
    "X_train, X_test, y_train, y_test = train_test_split(features, target, \n",
    "                                                      test_size =0.5,\n",
    "                                                      random_state=RANDOM_STATE)\n"
   ]
  },
  {
   "cell_type": "code",
   "execution_count": 16,
   "id": "4b1c0de1",
   "metadata": {},
   "outputs": [
    {
     "name": "stdout",
     "output_type": "stream",
     "text": [
      "showing info https://raw.githubusercontent.com/nltk/nltk_data/gh-pages/index.xml\n"
     ]
    },
    {
     "data": {
      "text/plain": [
       "True"
      ]
     },
     "execution_count": 16,
     "metadata": {},
     "output_type": "execute_result"
    }
   ],
   "source": [
    "try:\n",
    "    _create_unverified_https_context = ssl._create_unverified_context\n",
    "except AttributeError:\n",
    "    pass\n",
    "else:\n",
    "    ssl._create_default_https_context = _create_unverified_https_context\n",
    "\n",
    "nltk.download()"
   ]
  },
  {
   "cell_type": "code",
   "execution_count": 17,
   "id": "04674e17",
   "metadata": {},
   "outputs": [
    {
     "name": "stderr",
     "output_type": "stream",
     "text": [
      "[nltk_data] Downloading package stopwords to\n",
      "[nltk_data]     /Users/urvanov_aleksandr/nltk_data...\n",
      "[nltk_data]   Package stopwords is already up-to-date!\n"
     ]
    }
   ],
   "source": [
    "# выгружаем английские стоп-слова\n",
    "nltk.download('stopwords')\n",
    "stopwords = nltk_stopwords.words('english')\n"
   ]
  },
  {
   "cell_type": "markdown",
   "id": "4ee11d5c",
   "metadata": {},
   "source": [
    "Будем использовать четыре модели: LogisticRegression, RandomForestClassifier, CatBoostClassifier и LGBMClassifier."
   ]
  },
  {
   "cell_type": "markdown",
   "id": "020346d8",
   "metadata": {},
   "source": [
    "LogisticRegression"
   ]
  },
  {
   "cell_type": "code",
   "execution_count": 18,
   "id": "f66f609f",
   "metadata": {},
   "outputs": [
    {
     "name": "stderr",
     "output_type": "stream",
     "text": [
      "/Library/Frameworks/Python.framework/Versions/3.11/lib/python3.11/site-packages/sklearn/utils/_param_validation.py:558: FutureWarning: Passing an int for a boolean parameter is deprecated in version 1.2 and won't be supported anymore in version 1.4.\n",
      "  warnings.warn(\n",
      "/Library/Frameworks/Python.framework/Versions/3.11/lib/python3.11/site-packages/sklearn/utils/_param_validation.py:558: FutureWarning: Passing an int for a boolean parameter is deprecated in version 1.2 and won't be supported anymore in version 1.4.\n",
      "  warnings.warn(\n",
      "/Library/Frameworks/Python.framework/Versions/3.11/lib/python3.11/site-packages/sklearn/utils/_param_validation.py:558: FutureWarning: Passing an int for a boolean parameter is deprecated in version 1.2 and won't be supported anymore in version 1.4.\n",
      "  warnings.warn(\n"
     ]
    },
    {
     "name": "stdout",
     "output_type": "stream",
     "text": [
      "CPU times: user 10.2 s, sys: 588 ms, total: 10.8 s\n",
      "Wall time: 19.5 s\n"
     ]
    }
   ],
   "source": [
    "%%time\n",
    "\n",
    "lr_pipe = Pipeline([\n",
    "    ('tfidf', TfidfVectorizer(ngram_range=(1,3), min_df=3, max_df=0.9, use_idf=1,\n",
    "               smooth_idf=1, sublinear_tf=1, stop_words=stopwords)),\n",
    "    ('clf', LogisticRegression(random_state=RANDOM_STATE, max_iter=2000))])\n",
    "\n",
    "lr_params = {'clf__C': [10],\n",
    "             'clf__class_weight': ['balanced']}\n",
    "\n",
    "lr_grid = GridSearchCV(estimator=lr_pipe, param_grid=lr_params, cv=3, scoring='f1',\n",
    "                       n_jobs=-1)\n",
    "\n",
    "lr_grid = lr_grid.fit(X_train['lemm_text'], y_train)\n",
    "\n",
    "lr_score = lr_grid.best_score_\n"
   ]
  },
  {
   "cell_type": "code",
   "execution_count": 19,
   "id": "e0a412d9",
   "metadata": {},
   "outputs": [
    {
     "name": "stdout",
     "output_type": "stream",
     "text": [
      "F1 модели LogisticRegression: 0.7687827623744137\n"
     ]
    }
   ],
   "source": [
    "print('F1 модели LogisticRegression:', lr_score)"
   ]
  },
  {
   "cell_type": "markdown",
   "id": "b1416a5c",
   "metadata": {},
   "source": [
    "________"
   ]
  },
  {
   "cell_type": "markdown",
   "id": "e52bb7a9",
   "metadata": {},
   "source": [
    "Модель RandomForestClassifier"
   ]
  },
  {
   "cell_type": "code",
   "execution_count": 20,
   "id": "12899db4",
   "metadata": {},
   "outputs": [
    {
     "name": "stdout",
     "output_type": "stream",
     "text": [
      "Fitting 3 folds for each of 1 candidates, totalling 3 fits\n"
     ]
    },
    {
     "name": "stderr",
     "output_type": "stream",
     "text": [
      "/Library/Frameworks/Python.framework/Versions/3.11/lib/python3.11/site-packages/sklearn/utils/_param_validation.py:558: FutureWarning: Passing an int for a boolean parameter is deprecated in version 1.2 and won't be supported anymore in version 1.4.\n",
      "  warnings.warn(\n",
      "/Library/Frameworks/Python.framework/Versions/3.11/lib/python3.11/site-packages/sklearn/utils/_param_validation.py:558: FutureWarning: Passing an int for a boolean parameter is deprecated in version 1.2 and won't be supported anymore in version 1.4.\n",
      "  warnings.warn(\n",
      "/Library/Frameworks/Python.framework/Versions/3.11/lib/python3.11/site-packages/sklearn/utils/_param_validation.py:558: FutureWarning: Passing an int for a boolean parameter is deprecated in version 1.2 and won't be supported anymore in version 1.4.\n",
      "  warnings.warn(\n"
     ]
    },
    {
     "name": "stdout",
     "output_type": "stream",
     "text": [
      "CPU times: user 75.7 ms, sys: 93.7 ms, total: 169 ms\n",
      "Wall time: 1min 47s\n"
     ]
    }
   ],
   "source": [
    "%%time\n",
    "\n",
    "rfc_pipe = Pipeline([\n",
    "    ('tfidf', TfidfVectorizer(ngram_range=(1,3), min_df=3, max_df=0.9, use_idf=1,\n",
    "               smooth_idf=1, sublinear_tf=1, stop_words=stopwords)),\n",
    "    ('clf', RandomForestClassifier(random_state=RANDOM_STATE))])\n",
    "\n",
    "rfc_params = {'clf__class_weight': ['balanced']}\n",
    "\n",
    "rfc_grid = GridSearchCV(estimator=rfc_pipe, param_grid=rfc_params, cv=3, verbose=1,\n",
    "                        scoring='f1', n_jobs=-1, refit=False)\n",
    "\n",
    "rfc_grid.fit(X_train['lemm_text'], y_train)\n",
    "\n",
    "rfc_score = rfc_grid.best_score_"
   ]
  },
  {
   "cell_type": "code",
   "execution_count": 21,
   "id": "8a2aa0f3",
   "metadata": {},
   "outputs": [
    {
     "name": "stdout",
     "output_type": "stream",
     "text": [
      "F1 модели RandomForestClassifier: 0.591738209789651\n"
     ]
    }
   ],
   "source": [
    "print('F1 модели RandomForestClassifier:', rfc_score)"
   ]
  },
  {
   "cell_type": "markdown",
   "id": "a8495420",
   "metadata": {},
   "source": [
    "____"
   ]
  },
  {
   "cell_type": "markdown",
   "id": "f8b88d5e",
   "metadata": {},
   "source": [
    "Модель CatBoostClassifier"
   ]
  },
  {
   "cell_type": "code",
   "execution_count": 22,
   "id": "fc9ed316",
   "metadata": {},
   "outputs": [
    {
     "name": "stdout",
     "output_type": "stream",
     "text": [
      "Fitting 3 folds for each of 1 candidates, totalling 3 fits\n"
     ]
    },
    {
     "name": "stderr",
     "output_type": "stream",
     "text": [
      "/Library/Frameworks/Python.framework/Versions/3.11/lib/python3.11/site-packages/sklearn/utils/_param_validation.py:558: FutureWarning: Passing an int for a boolean parameter is deprecated in version 1.2 and won't be supported anymore in version 1.4.\n",
      "  warnings.warn(\n",
      "/Library/Frameworks/Python.framework/Versions/3.11/lib/python3.11/site-packages/sklearn/utils/_param_validation.py:558: FutureWarning: Passing an int for a boolean parameter is deprecated in version 1.2 and won't be supported anymore in version 1.4.\n",
      "  warnings.warn(\n",
      "/Library/Frameworks/Python.framework/Versions/3.11/lib/python3.11/site-packages/sklearn/utils/_param_validation.py:558: FutureWarning: Passing an int for a boolean parameter is deprecated in version 1.2 and won't be supported anymore in version 1.4.\n",
      "  warnings.warn(\n"
     ]
    },
    {
     "name": "stdout",
     "output_type": "stream",
     "text": [
      "CPU times: user 73.8 ms, sys: 124 ms, total: 198 ms\n",
      "Wall time: 1min 5s\n"
     ]
    }
   ],
   "source": [
    "%%time\n",
    "\n",
    "cbc_pipe = Pipeline([\n",
    "    ('tfidf', TfidfVectorizer(ngram_range=(1,3), min_df=3, max_df=0.9, use_idf=1,\n",
    "               smooth_idf=1, sublinear_tf=1, stop_words=stopwords)),\n",
    "    ('clf', CatBoostClassifier(random_state=RANDOM_STATE))])\n",
    "\n",
    "cbc_params = {'clf__n_estimators': [20],\n",
    "                'clf__learning_rate': [0.25]}\n",
    "\n",
    "cbc_grid = GridSearchCV(estimator=cbc_pipe, param_grid=cbc_params, cv=3, verbose=1,\n",
    "                        scoring='f1', n_jobs=-1, refit=False)\n",
    "\n",
    "cbc_grid.fit(X_train['lemm_text'], y_train)\n",
    "\n",
    "cbc_score = cbc_grid.best_score_"
   ]
  },
  {
   "cell_type": "code",
   "execution_count": 23,
   "id": "429ac07a",
   "metadata": {},
   "outputs": [
    {
     "name": "stdout",
     "output_type": "stream",
     "text": [
      "F1 для  модели CatBoostClassifier: 0.6186024503189996\n"
     ]
    }
   ],
   "source": [
    "print('F1 для  модели CatBoostClassifier:', cbc_score)"
   ]
  },
  {
   "cell_type": "markdown",
   "id": "cf6b651d",
   "metadata": {},
   "source": [
    "_______"
   ]
  },
  {
   "cell_type": "markdown",
   "id": "71c7dd12",
   "metadata": {},
   "source": [
    "Модель LGBMClassifier"
   ]
  },
  {
   "cell_type": "code",
   "execution_count": 24,
   "id": "72c7bd22",
   "metadata": {},
   "outputs": [
    {
     "name": "stdout",
     "output_type": "stream",
     "text": [
      "Fitting 3 folds for each of 1 candidates, totalling 3 fits\n",
      "0:\tlearn: 0.4820608\ttotal: 2.07s\tremaining: 39.4s\n",
      "1:\tlearn: 0.3659224\ttotal: 4.27s\tremaining: 38.4s\n",
      "2:\tlearn: 0.3055827\ttotal: 6.53s\tremaining: 37s\n",
      "3:\tlearn: 0.2706630\ttotal: 8.78s\tremaining: 35.1s\n",
      "4:\tlearn: 0.2504185\ttotal: 10.8s\tremaining: 32.5s\n",
      "5:\tlearn: 0.2376037\ttotal: 12.8s\tremaining: 30s\n",
      "6:\tlearn: 0.2284097\ttotal: 15s\tremaining: 27.9s\n",
      "7:\tlearn: 0.2194073\ttotal: 17.3s\tremaining: 26s\n",
      "8:\tlearn: 0.2145763\ttotal: 19.5s\tremaining: 23.9s\n",
      "9:\tlearn: 0.2097665\ttotal: 21.6s\tremaining: 21.6s\n",
      "10:\tlearn: 0.2063145\ttotal: 23.6s\tremaining: 19.3s\n",
      "11:\tlearn: 0.2029350\ttotal: 25.7s\tremaining: 17.1s\n",
      "12:\tlearn: 0.1981094\ttotal: 27.6s\tremaining: 14.8s\n",
      "13:\tlearn: 0.1954563\ttotal: 29.6s\tremaining: 12.7s\n",
      "14:\tlearn: 0.1934021\ttotal: 31.5s\tremaining: 10.5s\n",
      "15:\tlearn: 0.1905621\ttotal: 33.7s\tremaining: 8.41s\n",
      "16:\tlearn: 0.1887495\ttotal: 35.7s\tremaining: 6.3s\n",
      "17:\tlearn: 0.1869962\ttotal: 37.7s\tremaining: 4.18s\n",
      "18:\tlearn: 0.1855694\ttotal: 40.1s\tremaining: 2.11s\n",
      "19:\tlearn: 0.1834145\ttotal: 41s\tremaining: 0us\n"
     ]
    },
    {
     "name": "stderr",
     "output_type": "stream",
     "text": [
      "/Library/Frameworks/Python.framework/Versions/3.11/lib/python3.11/site-packages/sklearn/utils/_param_validation.py:558: FutureWarning: Passing an int for a boolean parameter is deprecated in version 1.2 and won't be supported anymore in version 1.4.\n",
      "  warnings.warn(\n",
      "/Library/Frameworks/Python.framework/Versions/3.11/lib/python3.11/site-packages/sklearn/utils/_param_validation.py:558: FutureWarning: Passing an int for a boolean parameter is deprecated in version 1.2 and won't be supported anymore in version 1.4.\n",
      "  warnings.warn(\n",
      "/Library/Frameworks/Python.framework/Versions/3.11/lib/python3.11/site-packages/sklearn/utils/_param_validation.py:558: FutureWarning: Passing an int for a boolean parameter is deprecated in version 1.2 and won't be supported anymore in version 1.4.\n",
      "  warnings.warn(\n"
     ]
    },
    {
     "name": "stdout",
     "output_type": "stream",
     "text": [
      "CPU times: user 79.8 ms, sys: 98.1 ms, total: 178 ms\n",
      "Wall time: 29.7 s\n"
     ]
    }
   ],
   "source": [
    "%%time\n",
    "\n",
    "lgc_pipe = Pipeline([\n",
    "    ('tfidf', TfidfVectorizer(ngram_range=(1,3), min_df=3, max_df=0.9, use_idf=1,\n",
    "               smooth_idf=1, sublinear_tf=1, stop_words=stopwords)),\n",
    "    ('clf', LGBMClassifier(random_state=RANDOM_STATE))])\n",
    "\n",
    "lgc_params = {  'clf__n_estimators': [200],\n",
    "                'clf__learning_rate': [0.25],\n",
    "                 'clf__max_depth': [-1]}\n",
    "\n",
    "lgc_grid = GridSearchCV(estimator=lgc_pipe, param_grid=lgc_params, cv=3, verbose=1,\n",
    "                        scoring='f1', n_jobs=-1, refit=False)\n",
    "\n",
    "lgc_grid.fit(X_train['lemm_text'], y_train)\n",
    "\n",
    "lgc_score = lgc_grid.best_score_"
   ]
  },
  {
   "cell_type": "code",
   "execution_count": 25,
   "id": "157b588c",
   "metadata": {},
   "outputs": [
    {
     "name": "stdout",
     "output_type": "stream",
     "text": [
      "F1 модели LGBMClassifier: 0.7631747424775067\n"
     ]
    }
   ],
   "source": [
    "print('F1 модели LGBMClassifier:', lgc_score)"
   ]
  },
  {
   "cell_type": "code",
   "execution_count": 26,
   "id": "94a31ca0",
   "metadata": {},
   "outputs": [
    {
     "data": {
      "text/html": [
       "<div>\n",
       "<style scoped>\n",
       "    .dataframe tbody tr th:only-of-type {\n",
       "        vertical-align: middle;\n",
       "    }\n",
       "\n",
       "    .dataframe tbody tr th {\n",
       "        vertical-align: top;\n",
       "    }\n",
       "\n",
       "    .dataframe thead th {\n",
       "        text-align: right;\n",
       "    }\n",
       "</style>\n",
       "<table border=\"1\" class=\"dataframe\">\n",
       "  <thead>\n",
       "    <tr style=\"text-align: right;\">\n",
       "      <th></th>\n",
       "      <th>F1</th>\n",
       "    </tr>\n",
       "  </thead>\n",
       "  <tbody>\n",
       "    <tr>\n",
       "      <th>LogisticRegression</th>\n",
       "      <td>0.768783</td>\n",
       "    </tr>\n",
       "    <tr>\n",
       "      <th>LGBMClassifier</th>\n",
       "      <td>0.763175</td>\n",
       "    </tr>\n",
       "    <tr>\n",
       "      <th>CatBoostClassifier</th>\n",
       "      <td>0.618602</td>\n",
       "    </tr>\n",
       "    <tr>\n",
       "      <th>RandomForestClassifier</th>\n",
       "      <td>0.591738</td>\n",
       "    </tr>\n",
       "  </tbody>\n",
       "</table>\n",
       "</div>"
      ],
      "text/plain": [
       "                              F1\n",
       "LogisticRegression      0.768783\n",
       "LGBMClassifier          0.763175\n",
       "CatBoostClassifier      0.618602\n",
       "RandomForestClassifier  0.591738"
      ]
     },
     "execution_count": 26,
     "metadata": {},
     "output_type": "execute_result"
    }
   ],
   "source": [
    "# сводная таблица по показателю F1:\n",
    "index = ['LogisticRegression',\n",
    "         'RandomForestClassifier',\n",
    "         'CatBoostClassifier',\n",
    "         'LGBMClassifier']\n",
    "\n",
    "data = {'F1':  [lr_score,\n",
    "                rfc_score,\n",
    "                cbc_score,\n",
    "                lgc_score]}\n",
    "\n",
    "data = pd.DataFrame(data=data, index=index)\n",
    "\n",
    "\n",
    "data.sort_values(by = 'F1', ascending=False)"
   ]
  },
  {
   "cell_type": "markdown",
   "id": "c85d1eb2",
   "metadata": {},
   "source": [
    "Лучшей моделью  по требуемому параметру является LogisticRegression."
   ]
  },
  {
   "cell_type": "code",
   "execution_count": 27,
   "id": "fcffdd54",
   "metadata": {},
   "outputs": [],
   "source": [
    "# тестирование лучшей модели на тестовой выборке \n",
    "y_pred = lr_grid.predict(X_test['lemm_text'])"
   ]
  },
  {
   "cell_type": "code",
   "execution_count": 28,
   "id": "45e5df6d",
   "metadata": {},
   "outputs": [
    {
     "name": "stdout",
     "output_type": "stream",
     "text": [
      "F1 на тестовой выборке 0.7761506276150627\n"
     ]
    }
   ],
   "source": [
    "print('F1 на тестовой выборке', f1_score(y_pred, y_test))"
   ]
  },
  {
   "cell_type": "markdown",
   "id": "76ec2d31",
   "metadata": {},
   "source": [
    "## 3. Вывод"
   ]
  },
  {
   "cell_type": "markdown",
   "id": "f9274c0e",
   "metadata": {},
   "source": [
    "В ходе работы было выполнено:\n",
    "\n",
    " 1. Загрузили и обработали текст с помощью регулярных выражений.\n",
    " 2. Проверили данные на пропуски и дубликаты. \n",
    " 3. Провели лемматизацию и токенизацию текста. \n",
    " 4. Выполнено сравнение 4-х моделей LogisticRegression, RandomForestClassifier, CatBoostClassifier и LGBMClassifier.\n",
    " 5. Выбрана лучшая модель по результатам метрики F1.\n",
    " \n",
    "Лучшей моделью по требуемому параметру является LogisticRegression. F1 на тренировочной выборке = 0,7687. F1 на тестовой выборке = 0,7761. Для заказчика однозначно рекомендую использовать эту модель для классификации комментариев на позитивные и негативные. Поствленная задача по значению метрики модели F1 > 0.75, достигнута. \n"
   ]
  },
  {
   "cell_type": "code",
   "execution_count": null,
   "id": "c6082ac7",
   "metadata": {},
   "outputs": [],
   "source": []
  }
 ],
 "metadata": {
  "ExecuteTimeLog": [
   {
    "duration": 138,
    "start_time": "2023-09-26T19:33:57.287Z"
   },
   {
    "duration": 158,
    "start_time": "2023-09-27T06:24:00.649Z"
   }
  ],
  "kernelspec": {
   "display_name": "Python 3 (ipykernel)",
   "language": "python",
   "name": "python3"
  },
  "language_info": {
   "codemirror_mode": {
    "name": "ipython",
    "version": 3
   },
   "file_extension": ".py",
   "mimetype": "text/x-python",
   "name": "python",
   "nbconvert_exporter": "python",
   "pygments_lexer": "ipython3",
   "version": "3.11.6"
  },
  "toc": {
   "base_numbering": 1,
   "nav_menu": {},
   "number_sections": true,
   "sideBar": true,
   "skip_h1_title": true,
   "title_cell": "Table of Contents",
   "title_sidebar": "Contents",
   "toc_cell": false,
   "toc_position": {},
   "toc_section_display": true,
   "toc_window_display": false
  }
 },
 "nbformat": 4,
 "nbformat_minor": 5
}
